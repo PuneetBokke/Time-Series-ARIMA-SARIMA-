{
 "cells": [
  {
   "cell_type": "code",
   "execution_count": 1,
   "id": "9aa340e9",
   "metadata": {},
   "outputs": [],
   "source": [
    "from pandas import read_csv"
   ]
  },
  {
   "cell_type": "code",
   "execution_count": 2,
   "id": "3a38cbca",
   "metadata": {},
   "outputs": [
    {
     "name": "stdout",
     "output_type": "stream",
     "text": [
      "WARNING:tensorflow:From C:\\Users\\bokke\\anaconda3\\Lib\\site-packages\\keras\\src\\losses.py:2976: The name tf.losses.sparse_softmax_cross_entropy is deprecated. Please use tf.compat.v1.losses.sparse_softmax_cross_entropy instead.\n",
      "\n"
     ]
    }
   ],
   "source": [
    "import numpy as np\n",
    "from keras.models import Sequential\n",
    "from keras.layers import Dense, SimpleRNN\n",
    "from sklearn.preprocessing import MinMaxScaler\n",
    "from sklearn.metrics import mean_squared_error\n",
    "import math\n",
    "import matplotlib.pyplot as plt"
   ]
  },
  {
   "cell_type": "code",
   "execution_count": 9,
   "id": "921f6256",
   "metadata": {},
   "outputs": [
    {
     "name": "stdout",
     "output_type": "stream",
     "text": [
      "WARNING:tensorflow:From C:\\Users\\bokke\\anaconda3\\Lib\\site-packages\\keras\\src\\optimizers\\__init__.py:309: The name tf.train.Optimizer is deprecated. Please use tf.compat.v1.train.Optimizer instead.\n",
      "\n"
     ]
    }
   ],
   "source": [
    "def create_rnn(hidden_units, dense_units, input_shape, activation):\n",
    "    model = Sequential()\n",
    "    model.add(SimpleRNN(hidden_units, input_shape=input_shape, activation=activation[0]))\n",
    "    model.add(Dense(dense_units, activation=activation[1]))\n",
    "    model.compile(loss='mean_squared_error', optimizer='adam')\n",
    "    return model\n",
    "\n",
    "demo_model = create_rnn(2, 1, (3, 1), activation=[None, 'linear'])"
   ]
  },
  {
   "cell_type": "code",
   "execution_count": 21,
   "id": "7b777b5e",
   "metadata": {},
   "outputs": [
    {
     "name": "stdout",
     "output_type": "stream",
     "text": [
      "demo_model_weights()\n",
      "wx= [[-0.58098215 -1.2489008 ]] \n",
      " \n",
      " wh= [[-0.4515183   0.8922618 ]\n",
      " [ 0.8922618   0.45151836]] \n",
      " \n",
      " bh= [0. 0.] \n",
      "\n",
      " wy= [[ 1.2360009]\n",
      " [-0.8385129]] \n",
      "\n",
      " by= [0.]\n"
     ]
    }
   ],
   "source": [
    "print('demo_model_weights()')\n",
    "wx=demo_model.get_weights()[0]1\n",
    "wh=demo_model.get_weights()[1]\n",
    "bh=demo_model.get_weights()[2]\n",
    "wy=demo_model.get_weights()[3]\n",
    "by=demo_model.get_weights()[4]\n",
    "print('wx=',wx,'\\n','\\n','wh=',wh,'\\n','\\n','bh=',bh,'\\n'*2,'wy=',wy,'\\n'*2,'by=',by)      "
   ]
  },
  {
   "cell_type": "code",
   "execution_count": 22,
   "id": "4fb66149",
   "metadata": {},
   "outputs": [
    {
     "name": "stdout",
     "output_type": "stream",
     "text": [
      "[[[1]\n",
      "  [2]\n",
      "  [3]]]\n",
      "1/1 [==============================] - 1s 656ms/step\n"
     ]
    }
   ],
   "source": [
    "x=np.array([1,2,3])\n",
    "x_input=np.reshape(x,(1,3,1))\n",
    "print(x_input)\n",
    "y_pred=demo_model.predict(x_input)"
   ]
  },
  {
   "cell_type": "code",
   "execution_count": 23,
   "id": "a89e326f",
   "metadata": {},
   "outputs": [
    {
     "name": "stdout",
     "output_type": "stream",
     "text": [
      "[[1.0253267]]\n"
     ]
    }
   ],
   "source": [
    "print(y_pred)"
   ]
  },
  {
   "cell_type": "code",
   "execution_count": 26,
   "id": "1cc90b5d",
   "metadata": {},
   "outputs": [],
   "source": [
    "m=2\n",
    "h0=np.zeros(m)\n",
    "h1=np.dot(x[0],wx)+h0+bh\n",
    "h2=np.dot(x[1],wx)+np.dot(h1,wh)+bh\n",
    "h3=np.dot(x[2],wx)+np.dot(h2,wh)+bh\n",
    "o3=np.dot(h3,wy)+by"
   ]
  },
  {
   "cell_type": "code",
   "execution_count": 33,
   "id": "99ac1700",
   "metadata": {},
   "outputs": [
    {
     "data": {
      "text/plain": [
       "array([[-4.02797337, -7.16018266]])"
      ]
     },
     "execution_count": 33,
     "metadata": {},
     "output_type": "execute_result"
    }
   ],
   "source": []
  },
  {
   "cell_type": "code",
   "execution_count": 28,
   "id": "88496474",
   "metadata": {},
   "outputs": [
    {
     "name": "stdout",
     "output_type": "stream",
     "text": [
      "network_predicted : [[1.0253267]] \n",
      " From_couputation : [[1.02532682]]\n"
     ]
    }
   ],
   "source": [
    "print('network_predicted :',y_pred,'\\n','From_couputation :',o3)"
   ]
  }
 ],
 "metadata": {
  "kernelspec": {
   "display_name": "Python 3 (ipykernel)",
   "language": "python",
   "name": "python3"
  },
  "language_info": {
   "codemirror_mode": {
    "name": "ipython",
    "version": 3
   },
   "file_extension": ".py",
   "mimetype": "text/x-python",
   "name": "python",
   "nbconvert_exporter": "python",
   "pygments_lexer": "ipython3",
   "version": "3.11.5"
  }
 },
 "nbformat": 4,
 "nbformat_minor": 5
}
